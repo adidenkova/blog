{
  "cells": [
    {
      "cell_type": "raw",
      "metadata": {},
      "source": [
        "---\n",
        "title: Classification\n",
        "description: TODO\n",
        "date: 2023/12/04\n",
        "categories:\n",
        "  - TODO\n",
        "---"
      ],
      "id": "0f3672e8"
    },
    {
      "cell_type": "markdown",
      "metadata": {},
      "source": [
        "<!-- Describe the algorithms, theories, and applications related to machine learning/data mining for classification. -->\n",
        "\n",
        "\n",
        "![Image credit: [sklearn](https://scikit-learn.org/stable/auto_examples/classification/plot_classifier_comparison.html)](https://scikit-learn.org/stable/_images/sphx_glr_plot_classifier_comparison_001.png){column=page}\n",
        "\n",
        "## Simple dataset\n",
        "\n",
        "### Iris\n",
        "\n",
        "![Image credit: [Sebastian Raschka](https://sebastianraschka.com/Articles/2015_pca_in_3_steps.html)](https://sebastianraschka.com/images/blog/2015/principal_component_analysis_files/iris.png){width=75%}\n",
        "\n",
        "![Image credit: [Gaurav Chauhan](https://machinelearninghd.com/iris-dataset-uci-machine-learning-repository-project/)](https://machinelearninghd.com/wp-content/uploads/2021/03/iris-dataset.png)\n"
      ],
      "id": "1cfc1571"
    },
    {
      "cell_type": "code",
      "metadata": {},
      "source": [
        "#| code-fold: true\n",
        "#| code-summary: 2D scatterplot of iris\n",
        "import plotly.express as px\n",
        "from sklearn.preprocessing import MinMaxScaler\n",
        "\n",
        "iris = px.data.iris().drop('species_id', axis=1)\n",
        "fig = px.scatter(iris, x=\"sepal_width\", y=\"sepal_length\", size=\"petal_length\",\n",
        "    color=\"species\", marginal_y=\"violin\", marginal_x=\"violin\",\n",
        "    template=\"simple_white\", hover_data=['petal_width'])\n",
        "op = MinMaxScaler(feature_range=(0.5, 1.0)).fit_transform(\n",
        "    iris['petal_width'].values[:, None])\n",
        "fig.update_traces(marker=dict(opacity=op), selector=dict(mode='markers'))\n",
        "fig.show();"
      ],
      "id": "777e78fb",
      "execution_count": null,
      "outputs": []
    },
    {
      "cell_type": "code",
      "metadata": {},
      "source": [
        "#| code-fold: true\n",
        "#| code-summary: 3D scatterplot of iris\n",
        "import plotly.express as px\n",
        "\n",
        "fig = px.scatter_3d(iris, x=\"sepal_width\", y=\"sepal_length\", z=\"petal_width\",\n",
        "    size=\"petal_length\", color=\"species\", template=\"simple_white\")\n",
        "fig.show();"
      ],
      "id": "b8749cf7",
      "execution_count": null,
      "outputs": []
    },
    {
      "cell_type": "markdown",
      "metadata": {},
      "source": [
        "### Naive Bayes\n"
      ],
      "id": "2f2be080"
    },
    {
      "cell_type": "code",
      "metadata": {},
      "source": [
        "#| code-summary: Naive bayes classifier\n",
        "from sklearn.model_selection import train_test_split\n",
        "from sklearn.naive_bayes import GaussianNB\n",
        "from sklearn.metrics import accuracy_score, precision_score\n",
        "\n",
        "# Fit and predict\n",
        "X, y = iris.drop('species', axis=1), iris['species']\n",
        "X_train, X_test, y_train, y_test = train_test_split(\n",
        "    X, y, test_size=0.5, random_state=5805)\n",
        "nb = GaussianNB().fit(X_train, y_train)\n",
        "iris['predict'] = nb.predict(X)\n",
        "y_pred = nb.predict(X_test)\n",
        "print(f\"Accuracy:  {accuracy_score(y_test, y_pred):.4f}\\n\"\n",
        "      f\"Precision: {precision_score(y_test, y_pred, average='macro'):.4f}\")"
      ],
      "id": "d96e24a8",
      "execution_count": null,
      "outputs": []
    },
    {
      "cell_type": "markdown",
      "metadata": {},
      "source": [
        "### Performance\n"
      ],
      "id": "d6c23ca5"
    },
    {
      "cell_type": "code",
      "metadata": {},
      "source": [
        "#| code-fold: true\n",
        "#| code-summary: Code for plotting confusion matrix\n",
        "#| fig-align: center\n",
        "import seaborn as sn\n",
        "import pandas as pd\n",
        "import matplotlib.pyplot as plt\n",
        "from sklearn.metrics import confusion_matrix\n",
        "\n",
        "names = iris['species'].unique()\n",
        "conf = confusion_matrix(y_test, y_pred)\n",
        "df_cm = pd.DataFrame(conf, index=names, columns=names)\n",
        "plt.figure(figsize = (4,3))\n",
        "sn.heatmap(df_cm, annot=True, fmt='d');"
      ],
      "id": "3f8207ad",
      "execution_count": null,
      "outputs": []
    },
    {
      "cell_type": "code",
      "metadata": {},
      "source": [
        "#| code-fold: true\n",
        "#| code-summary: 2D scatterplot of iris & predictions\n",
        "import numpy as np\n",
        "\n",
        "fix = {\"circle\": \"#1F77B4\", \"diamond\": \"#FF7F0E\", \"square\": \"#2CA02C\"}\n",
        "fig = px.scatter(iris, x=\"sepal_width\", y=\"sepal_length\", size=\"petal_length\",\n",
        "    color=\"species\", symbol=\"predict\",\n",
        "    template=\"simple_white\", hover_data=['petal_width'])\n",
        "fig.update_traces(marker=dict(opacity=op), selector=dict(mode='markers'))\n",
        "for symbol, color in fix.items():\n",
        "    fig.update_traces(marker=dict(line=dict(width=3, color=color),\n",
        "                      symbol=\"circle\"),\n",
        "                      selector=dict(mode='markers', marker_symbol=symbol))\n",
        "fig.show();"
      ],
      "id": "6e05c43b",
      "execution_count": null,
      "outputs": []
    },
    {
      "cell_type": "code",
      "metadata": {},
      "source": [
        "#| code-fold: true\n",
        "#| code-summary: 3D scatterplot of iris & predictions\n",
        "import plotly.express as px\n",
        "\n",
        "fig = px.scatter_3d(iris, x=\"sepal_width\", y=\"sepal_length\", z=\"petal_width\",\n",
        "    size=\"petal_length\", color=\"species\", symbol=\"predict\",\n",
        "    template=\"simple_white\")\n",
        "for symbol, color in fix.items():\n",
        "    fig.update_traces(marker=dict(line=dict(color=color)),\n",
        "                      selector=dict(mode='markers', marker_symbol=symbol))\n",
        "fig.show();"
      ],
      "id": "b0770749",
      "execution_count": null,
      "outputs": []
    },
    {
      "cell_type": "markdown",
      "metadata": {},
      "source": [
        "## Complex dataset\n",
        "\n",
        "### MNIST\n",
        "\n",
        "![Image credit: [Orhan G. Yalçın](https://towardsdatascience.com/image-classification-in-10-minutes-with-mnist-dataset-54c35b77a38d)](https://miro.medium.com/v2/resize:fit:720/format:webp/1*XdCMCaHPt-pqtEibUfAnNw.png)\n",
        "\n",
        "### Neural network\n",
        "\n",
        "[pytorch tutorial](https://pytorch.org/tutorials/beginner/blitz/cifar10_tutorial.html)\n"
      ],
      "id": "5bd8aa40"
    },
    {
      "cell_type": "code",
      "metadata": {},
      "source": [
        "#| code-fold: true\n",
        "#| code-summary: Import pytorch\n",
        "import torch\n",
        "from torch import nn\n",
        "import torch.nn.functional as F\n",
        "from torch.utils.data import DataLoader\n",
        "from torchvision.datasets import MNIST\n",
        "import torchvision.transforms as transforms\n",
        "import torch.optim as optim\n",
        "\n",
        "device = \"cuda\" if torch.cuda.is_available() else \"cpu\"\n",
        "print(f\"Using device: {device}\")"
      ],
      "id": "1c136e48",
      "execution_count": null,
      "outputs": []
    },
    {
      "cell_type": "code",
      "metadata": {},
      "source": [
        "#| code-summary: Load and preprocess data\n",
        "#| echo: false\n",
        "transform = transforms.Compose([\n",
        "        transforms.ToTensor(),\n",
        "        transforms.Normalize((0.5), (0.5))\n",
        "    ])\n",
        "batch_size = 4\n",
        "\n",
        "trainset = MNIST(root='./data', train=True, download=True, transform=transform)\n",
        "trainloader = DataLoader(trainset, batch_size=batch_size, shuffle=True, num_workers=2)\n",
        "\n",
        "testset = MNIST(root='./data', train=False, download=True, transform=transform)\n",
        "testloader = DataLoader(testset, batch_size=batch_size, shuffle=False, num_workers=2)\n",
        "\n",
        "names = list(range(10))"
      ],
      "id": "7b4eca86",
      "execution_count": null,
      "outputs": []
    },
    {
      "cell_type": "code",
      "metadata": {},
      "source": [
        "#| code-summary: Create a neural network\n",
        "class NeuralNet(nn.Module):\n",
        "    def __init__(self):\n",
        "        super().__init__()\n",
        "        self.conv1 = nn.Conv2d(1, 3, 5)\n",
        "        self.pool = nn.MaxPool2d(2, 2)\n",
        "        self.conv2 = nn.Conv2d(3, 6, 5)\n",
        "        self.fc1 = nn.Linear(6 * 4 * 4, 10)\n",
        "\n",
        "    def forward(self, x):\n",
        "        x = self.pool(F.relu(self.conv1(x)))\n",
        "        x = self.pool(F.relu(self.conv2(x)))\n",
        "        x = torch.flatten(x, 1)\n",
        "        x = self.fc1(x)\n",
        "        return x\n",
        "\n",
        "model = NeuralNet()\n",
        "criterion = nn.CrossEntropyLoss()\n",
        "optimizer = optim.SGD(model.parameters(), lr=0.01, momentum=0.9)"
      ],
      "id": "cd393eed",
      "execution_count": null,
      "outputs": []
    },
    {
      "cell_type": "code",
      "metadata": {},
      "source": [
        "#| code-summary: Train a neural network\n",
        "# Do one pass over the dataset\n",
        "for i, data in enumerate(trainloader, 0):\n",
        "    inputs, labels = data\n",
        "\n",
        "    # Resent the gradients\n",
        "    optimizer.zero_grad()\n",
        "\n",
        "    # Forward/backward pass\n",
        "    outputs = model(inputs)\n",
        "    loss = criterion(outputs, labels)\n",
        "    loss.backward()\n",
        "    optimizer.step()\n",
        "\n",
        "# Evaluate network\n",
        "y_test, y_pred = [], []\n",
        "with torch.no_grad():\n",
        "    for data in testloader:\n",
        "        inputs, labels = data\n",
        "        outputs = model(inputs)\n",
        "        _, pred = torch.max(outputs.data, 1)\n",
        "        y_test.extend(labels)\n",
        "        y_pred.extend(pred)\n",
        "print(f\"Accuracy:  {accuracy_score(y_test, y_pred):.4f}\\n\"\n",
        "      f\"Precision: {precision_score(y_test, y_pred, average='macro'):.4f}\")"
      ],
      "id": "3d88c5a0",
      "execution_count": null,
      "outputs": []
    },
    {
      "cell_type": "markdown",
      "metadata": {},
      "source": [
        "### Performance\n"
      ],
      "id": "de9a21ae"
    },
    {
      "cell_type": "code",
      "metadata": {},
      "source": [
        "#| code-fold: true\n",
        "#| code-summary: Code for plotting confusion matrix\n",
        "#| fig-align: center\n",
        "conf = confusion_matrix(y_test, y_pred)\n",
        "df_cm = pd.DataFrame(conf, index=names, columns=names)\n",
        "plt.figure(figsize = (8.5,7))\n",
        "sn.heatmap(df_cm, annot=True, fmt='d');"
      ],
      "id": "13d26283",
      "execution_count": null,
      "outputs": []
    },
    {
      "cell_type": "code",
      "metadata": {},
      "source": [
        "#| code-fold: true\n",
        "#| code-summary: Show test samples with mistakes\n",
        "#| layout-ncol: 4\n",
        "import torchvision\n",
        "import numpy as np\n",
        "\n",
        "def imshow(img):\n",
        "    img = img / 2 + 0.5     # unnormalize\n",
        "    npimg = img.numpy()\n",
        "    plt.imshow(np.transpose(npimg, (1, 2, 0)))\n",
        "    plt.show()\n",
        "\n",
        "\n",
        "# Get samples where mistakes were made\n",
        "def wrong(dataloader):\n",
        "    for i, (images, labels) in enumerate(testloader):\n",
        "        for j, (image, label) in enumerate(zip(images, labels)):\n",
        "            label, pred = label.item(), y_pred[batch_size*i+j].item()\n",
        "            if pred != label:\n",
        "                yield (image, label, pred)\n",
        "\n",
        "\n",
        "# Plot several examples\n",
        "loader = wrong(testloader)\n",
        "for _ in range(4):\n",
        "    image, label, pred = next(loader)\n",
        "    img = np.transpose(image, (1, 2, 0))\n",
        "    plt.imshow(img, cmap='Greys')\n",
        "    plt.title(f\"Actual: {label}\\nPredicted: {pred}\", size=42)\n",
        "    plt.xticks([],[])\n",
        "    plt.yticks([],[])\n",
        "    plt.show()"
      ],
      "id": "9667825a",
      "execution_count": null,
      "outputs": []
    }
  ],
  "metadata": {
    "kernelspec": {
      "name": "python3",
      "language": "python",
      "display_name": "Python 3 (ipykernel)"
    }
  },
  "nbformat": 4,
  "nbformat_minor": 5
}